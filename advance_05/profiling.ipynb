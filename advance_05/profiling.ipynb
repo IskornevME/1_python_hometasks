{
 "cells": [
  {
   "cell_type": "code",
   "execution_count": 151,
   "id": "4b25602c",
   "metadata": {},
   "outputs": [],
   "source": [
    "import time\n",
    "from random import choice\n",
    "import weakref\n",
    "import cProfile, pstats, io\n",
    "\n",
    "\n",
    "class FootballPlayer:\n",
    "    def __init__(self, country_name=None, pos_name=None, team_name=None, team_sponsor=None):\n",
    "        self.country = Country(self, country_name)\n",
    "        self.position = Position(self, pos_name)\n",
    "        self.team = Team(self, team_name, team_sponsor)\n",
    "\n",
    "        \n",
    "class Country:\n",
    "    def __init__(self, player, country_name):\n",
    "        self.player = player\n",
    "        self.country_name = country_name\n",
    "\n",
    "        \n",
    "class Position:\n",
    "    def __init__(self, player, pos_name):\n",
    "        self.player = player\n",
    "        self.pos_name = pos_name\n",
    "\n",
    "\n",
    "class Team:\n",
    "    def __init__(self, player, team_name, team_sponsor):\n",
    "        self.player = player\n",
    "        self.team_name = team_name\n",
    "        self.team_sponsor = team_sponsor"
   ]
  },
  {
   "cell_type": "code",
   "execution_count": 137,
   "id": "17a8c0d8",
   "metadata": {},
   "outputs": [],
   "source": [
    "class FootballPlayerSlots:\n",
    "    __slots__ = (\"country\", \"position\", \"team\")\n",
    "\n",
    "    def __init__(self, country_name=None, pos_name=None, team_name=None, team_sponsor=None):\n",
    "        self.country = CountrySlots(self, country_name)\n",
    "        self.position = PositionSlots(self, pos_name)\n",
    "        self.team = TeamSlots(self, team_name, team_sponsor)\n",
    "\n",
    "\n",
    "class CountrySlots:\n",
    "    __slots__ = (\"player\", \"country_name\")\n",
    "\n",
    "    def __init__(self, player, country_name):\n",
    "        self.player = player\n",
    "        self.country_name = country_name\n",
    "\n",
    "\n",
    "class PositionSlots:\n",
    "    __slots__ = (\"player\", \"pos_name\")\n",
    "\n",
    "    def __init__(self, player, pos_name):\n",
    "        self.player = player\n",
    "        self.pos_name = pos_name\n",
    "\n",
    "\n",
    "class TeamSlots:\n",
    "    __slots__ = (\"player\", \"team_name\", \"team_sponsor\")\n",
    "\n",
    "    def __init__(self, player, team_name, team_sponsor):\n",
    "        self.player = player\n",
    "        self.team_name = team_name\n",
    "        self.team_sponsor = team_sponsor\n"
   ]
  },
  {
   "cell_type": "code",
   "execution_count": 138,
   "id": "9d55c30d",
   "metadata": {},
   "outputs": [],
   "source": [
    "class FootballPlayerWeakref:\n",
    "    def __init__(self, country_name=None, pos_name=None, team_name=None, team_sponsor=None):\n",
    "        self.country = CountryWeakref(self, country_name)\n",
    "        self.position = PositionWeakref(self, pos_name)\n",
    "        self.team = TeamWeakref(self, team_name, team_sponsor)\n",
    "\n",
    "\n",
    "class CountryWeakref:\n",
    "    def __init__(self, player, country_name):\n",
    "        self.player = weakref.ref(player)\n",
    "        self.country_name = country_name\n",
    "\n",
    "\n",
    "class PositionWeakref:\n",
    "    def __init__(self, player, pos_name):\n",
    "        self.player = weakref.ref(player)\n",
    "        self.pos_name = pos_name\n",
    "\n",
    "\n",
    "class TeamWeakref:\n",
    "    def __init__(self, player, team_name, team_sponsor):\n",
    "        self.player = weakref.ref(player)\n",
    "        self.team_name = team_name\n",
    "        self.team_sponsor = team_sponsor\n"
   ]
  },
  {
   "cell_type": "code",
   "execution_count": 139,
   "id": "f3ad5ad2",
   "metadata": {},
   "outputs": [],
   "source": [
    "COUNTRIES = [\"England\", \"France\", \"Russia\", \"Spain\", \"Italy\", \"Brazil\", \"USA\", \"Germany\", \"Argentina\", \"Belgium\"]\n",
    "POSITIONS = [\"Forward\", \"Goalkeeper\", \"Defender\", \"Midfielder\"]\n",
    "TEAMS = [\"Barcelona\", \"Bayern\", \"Manchester City\", \"Real\", \"Atletico\", \"Chelsea\", \"Arsenal\", \"Inter\", \"Juventus\"]\n",
    "\n",
    "\n",
    "def random_word(words):\n",
    "    return choice(words)"
   ]
  },
  {
   "cell_type": "code",
   "execution_count": 140,
   "id": "72f1fb08",
   "metadata": {},
   "outputs": [],
   "source": [
    "N = 1_000_000\n",
    "\n",
    "\n",
    "countries = [random_word(COUNTRIES) for i in range(N)]\n",
    "teams = [random_word(TEAMS) for i in range(N)]\n",
    "positions = [random_word(POSITIONS) for i in range(N)]"
   ]
  },
  {
   "cell_type": "code",
   "execution_count": 141,
   "id": "3fcb8b0e",
   "metadata": {},
   "outputs": [],
   "source": [
    "def simple_class(N):\n",
    "    players = [FootballPlayer(countries[i], positions[i], teams[i]) for i in range(N)]\n",
    "    return players\n",
    "\n",
    "\n",
    "def slots_class(N):\n",
    "    players_slots = [FootballPlayerSlots(countries[i], positions[i], teams[i]) for i in range(N)]\n",
    "    return players_slots\n",
    "\n",
    "    \n",
    "def weakref_class(N):\n",
    "    players_weakref = [FootballPlayerWeakref(countries[i], positions[i], teams[i]) for i in range(N)]\n",
    "    return players_weakref"
   ]
  },
  {
   "cell_type": "code",
   "execution_count": 142,
   "id": "2e60cf47",
   "metadata": {},
   "outputs": [
    {
     "name": "stdout",
     "output_type": "stream",
     "text": [
      "CPU times: user 4.04 s, sys: 78.9 ms, total: 4.12 s\n",
      "Wall time: 4.12 s\n"
     ]
    }
   ],
   "source": [
    "%%time\n",
    "\n",
    "players = simple_class(N)"
   ]
  },
  {
   "cell_type": "code",
   "execution_count": 143,
   "id": "ff4b1bf8",
   "metadata": {},
   "outputs": [
    {
     "name": "stdout",
     "output_type": "stream",
     "text": [
      "CPU times: user 2.42 s, sys: 37.8 ms, total: 2.46 s\n",
      "Wall time: 2.46 s\n"
     ]
    }
   ],
   "source": [
    "%%time\n",
    "\n",
    "players_slots = slots_class(N)"
   ]
  },
  {
   "cell_type": "code",
   "execution_count": 144,
   "id": "7e8696df",
   "metadata": {},
   "outputs": [
    {
     "name": "stdout",
     "output_type": "stream",
     "text": [
      "CPU times: user 3.52 s, sys: 153 ms, total: 3.68 s\n",
      "Wall time: 3.68 s\n"
     ]
    }
   ],
   "source": [
    "%%time\n",
    "\n",
    "players_weakref = weakref_class(N)"
   ]
  },
  {
   "cell_type": "code",
   "execution_count": 145,
   "id": "e9191cc2",
   "metadata": {},
   "outputs": [],
   "source": [
    "def simple_class_get(N):\n",
    "    for i in range(N):\n",
    "        y = players[i].country.country_name\n",
    "\n",
    "\n",
    "def slots_class_get(N):\n",
    "    for i in range(N):\n",
    "        y = players_slots[i].country.country_name\n",
    "\n",
    "\n",
    "def weakref_class_get(N):\n",
    "    for i in range(N):\n",
    "        y = players_weakref[i].country.country_name"
   ]
  },
  {
   "cell_type": "code",
   "execution_count": 146,
   "id": "f5cfa09f",
   "metadata": {},
   "outputs": [],
   "source": [
    "def simple_class_change(N):\n",
    "    for i in range(N):\n",
    "        players[i].position.pos_name += \" in team\"\n",
    "        \n",
    "\n",
    "def slots_class_change(N):\n",
    "    for i in range(N):\n",
    "        players_slots[i].position.pos_name += \" in team\"\n",
    "\n",
    "\n",
    "def weakref_class_change(N):\n",
    "    for i in range(N):\n",
    "        players_weakref[i].position.pos_name += \" in team\""
   ]
  },
  {
   "cell_type": "code",
   "execution_count": 147,
   "id": "57909cfe",
   "metadata": {},
   "outputs": [],
   "source": [
    "def simple_class_del(N):\n",
    "    for i in range(N):\n",
    "        del players[i].position.pos_name\n",
    "        \n",
    "\n",
    "def slots_class_del(N):\n",
    "    for i in range(N):\n",
    "        del players_slots[i].position.pos_name\n",
    "        \n",
    "        \n",
    "def weakref_class_del(N):\n",
    "    for i in range(N):\n",
    "        del players_weakref[i].position.pos_name"
   ]
  },
  {
   "cell_type": "code",
   "execution_count": 13,
   "id": "fa914c21",
   "metadata": {},
   "outputs": [
    {
     "name": "stdout",
     "output_type": "stream",
     "text": [
      "CPU times: user 59.6 ms, sys: 1.33 ms, total: 60.9 ms\n",
      "Wall time: 60.1 ms\n"
     ]
    }
   ],
   "source": [
    "%%time\n",
    "\n",
    "simple_class_get(N)"
   ]
  },
  {
   "cell_type": "code",
   "execution_count": 14,
   "id": "41cb2d35",
   "metadata": {},
   "outputs": [
    {
     "name": "stdout",
     "output_type": "stream",
     "text": [
      "CPU times: user 57.2 ms, sys: 1.34 ms, total: 58.6 ms\n",
      "Wall time: 57.8 ms\n"
     ]
    }
   ],
   "source": [
    "%%time\n",
    "\n",
    "slots_class_get(N)"
   ]
  },
  {
   "cell_type": "code",
   "execution_count": 15,
   "id": "fab48b05",
   "metadata": {},
   "outputs": [
    {
     "name": "stdout",
     "output_type": "stream",
     "text": [
      "CPU times: user 85.4 ms, sys: 6.97 ms, total: 92.4 ms\n",
      "Wall time: 91.3 ms\n"
     ]
    }
   ],
   "source": [
    "%%time\n",
    "\n",
    "weakref_class_get(N)"
   ]
  },
  {
   "cell_type": "code",
   "execution_count": null,
   "id": "84a87a24",
   "metadata": {},
   "outputs": [],
   "source": []
  },
  {
   "cell_type": "code",
   "execution_count": 16,
   "id": "a6659284",
   "metadata": {},
   "outputs": [
    {
     "name": "stdout",
     "output_type": "stream",
     "text": [
      "CPU times: user 109 ms, sys: 9.08 ms, total: 118 ms\n",
      "Wall time: 117 ms\n"
     ]
    }
   ],
   "source": [
    "%%time\n",
    "\n",
    "simple_class_change(N)"
   ]
  },
  {
   "cell_type": "code",
   "execution_count": 17,
   "id": "edf6640d",
   "metadata": {},
   "outputs": [
    {
     "name": "stdout",
     "output_type": "stream",
     "text": [
      "CPU times: user 98.7 ms, sys: 9.1 ms, total: 108 ms\n",
      "Wall time: 107 ms\n"
     ]
    }
   ],
   "source": [
    "%%time\n",
    "\n",
    "slots_class_change(N)"
   ]
  },
  {
   "cell_type": "code",
   "execution_count": 18,
   "id": "272ab058",
   "metadata": {},
   "outputs": [
    {
     "name": "stdout",
     "output_type": "stream",
     "text": [
      "CPU times: user 113 ms, sys: 10.3 ms, total: 123 ms\n",
      "Wall time: 122 ms\n"
     ]
    }
   ],
   "source": [
    "%%time\n",
    "\n",
    "weakref_class_change(N)"
   ]
  },
  {
   "cell_type": "code",
   "execution_count": null,
   "id": "4b3ee3fd",
   "metadata": {},
   "outputs": [],
   "source": []
  },
  {
   "cell_type": "code",
   "execution_count": 19,
   "id": "b7585b85",
   "metadata": {},
   "outputs": [
    {
     "name": "stdout",
     "output_type": "stream",
     "text": [
      "CPU times: user 97.5 ms, sys: 12 ms, total: 109 ms\n",
      "Wall time: 108 ms\n"
     ]
    }
   ],
   "source": [
    "%%time\n",
    "\n",
    "simple_class_del(N)"
   ]
  },
  {
   "cell_type": "code",
   "execution_count": 20,
   "id": "d9de4f7b",
   "metadata": {},
   "outputs": [
    {
     "name": "stdout",
     "output_type": "stream",
     "text": [
      "CPU times: user 63.8 ms, sys: 5.33 ms, total: 69.1 ms\n",
      "Wall time: 68.3 ms\n"
     ]
    }
   ],
   "source": [
    "%%time\n",
    "\n",
    "slots_class_del(N)"
   ]
  },
  {
   "cell_type": "code",
   "execution_count": 21,
   "id": "ce95ed09",
   "metadata": {},
   "outputs": [
    {
     "name": "stdout",
     "output_type": "stream",
     "text": [
      "CPU times: user 102 ms, sys: 13 ms, total: 115 ms\n",
      "Wall time: 114 ms\n"
     ]
    }
   ],
   "source": [
    "%%time\n",
    "\n",
    "weakref_class_del(N)"
   ]
  },
  {
   "cell_type": "code",
   "execution_count": 191,
   "id": "b6bec3ce",
   "metadata": {},
   "outputs": [],
   "source": [
    "def profile_deco(func):\n",
    "    prof = cProfile.Profile()\n",
    "    stats = io.StringIO()\n",
    "    count = 0\n",
    "    \n",
    "    def wrapper(*args, **kwargs):\n",
    "        nonlocal count, stats, prof\n",
    "        count += 1\n",
    "        print(f\"Число вызовов функции {func.__name__} =\", count)\n",
    "        prof.enable()\n",
    "\n",
    "        res = func(*args, **kwargs)\n",
    "\n",
    "        prof.disable()\n",
    "        return res\n",
    "    \n",
    "    def print_statisctic():\n",
    "        sortby = 'cumulative'\n",
    "        ps = pstats.Stats(prof, stream=stats).sort_stats(sortby)\n",
    "        ps.print_stats()\n",
    "        print(stats.getvalue())\n",
    "\n",
    "    wrapper.print_stat = print_statisctic\n",
    "    return wrapper"
   ]
  },
  {
   "cell_type": "code",
   "execution_count": 192,
   "id": "a37ec195",
   "metadata": {},
   "outputs": [],
   "source": [
    "@profile_deco\n",
    "def simple_class(N):\n",
    "    players = [FootballPlayer(countries[i], positions[i], teams[i]) for i in range(N)]\n",
    "    \n",
    "@profile_deco\n",
    "def slots_class(N):\n",
    "    players = [FootballPlayer(countries[i], positions[i], teams[i]) for i in range(N)]\n",
    "    \n",
    "@profile_deco\n",
    "def weakref_class(N):\n",
    "    players = [FootballPlayer(countries[i], positions[i], teams[i]) for i in range(N)]"
   ]
  },
  {
   "cell_type": "code",
   "execution_count": 193,
   "id": "452f0886",
   "metadata": {},
   "outputs": [
    {
     "name": "stdout",
     "output_type": "stream",
     "text": [
      "Число вызовов функции slots_class = 1\n",
      "Число вызовов функции slots_class = 2\n",
      "Число вызовов функции slots_class = 3\n",
      "Число вызовов функции slots_class = 4\n",
      "Число вызовов функции slots_class = 5\n",
      "         124051 function calls in 0.115 seconds\n",
      "\n",
      "   Ordered by: cumulative time\n",
      "\n",
      "   ncalls  tottime  percall  cumtime  percall filename:lineno(function)\n",
      "        5    0.000    0.000    0.115    0.023 /var/folders/db/ymnxjzps0vzd3lzz5b3dl6d40000gn/T/ipykernel_7602/4275099258.py:5(slots_class)\n",
      "        5    0.018    0.004    0.115    0.023 /var/folders/db/ymnxjzps0vzd3lzz5b3dl6d40000gn/T/ipykernel_7602/4275099258.py:7(<listcomp>)\n",
      "    31009    0.054    0.000    0.097    0.000 /var/folders/db/ymnxjzps0vzd3lzz5b3dl6d40000gn/T/ipykernel_7602/1917378029.py:8(__init__)\n",
      "    31009    0.016    0.000    0.016    0.000 /var/folders/db/ymnxjzps0vzd3lzz5b3dl6d40000gn/T/ipykernel_7602/1917378029.py:15(__init__)\n",
      "    31009    0.016    0.000    0.016    0.000 /var/folders/db/ymnxjzps0vzd3lzz5b3dl6d40000gn/T/ipykernel_7602/1917378029.py:21(__init__)\n",
      "    31009    0.011    0.000    0.011    0.000 /var/folders/db/ymnxjzps0vzd3lzz5b3dl6d40000gn/T/ipykernel_7602/1917378029.py:27(__init__)\n",
      "        5    0.000    0.000    0.000    0.000 {method 'disable' of '_lsprof.Profiler' objects}\n",
      "\n",
      "\n",
      "\n"
     ]
    }
   ],
   "source": [
    "slots_class(9999)\n",
    "slots_class(1000)\n",
    "slots_class(10)\n",
    "slots_class(10000)\n",
    "slots_class(10000)\n",
    "slots_class.print_stat()"
   ]
  },
  {
   "cell_type": "code",
   "execution_count": 156,
   "id": "97dd6cd6",
   "metadata": {},
   "outputs": [
    {
     "name": "stdout",
     "output_type": "stream",
     "text": [
      "Число вызовов функции simple_class = 1\n",
      "         4000003 function calls in 4.429 seconds\n",
      "\n",
      "   Ordered by: cumulative time\n",
      "\n",
      "   ncalls  tottime  percall  cumtime  percall filename:lineno(function)\n",
      "        1    0.000    0.000    4.429    4.429 /var/folders/db/ymnxjzps0vzd3lzz5b3dl6d40000gn/T/ipykernel_7602/4275099258.py:1(simple_class)\n",
      "        1    0.323    0.323    4.429    4.429 /var/folders/db/ymnxjzps0vzd3lzz5b3dl6d40000gn/T/ipykernel_7602/4275099258.py:3(<listcomp>)\n",
      "  1000000    2.184    0.000    4.107    0.000 /var/folders/db/ymnxjzps0vzd3lzz5b3dl6d40000gn/T/ipykernel_7602/1917378029.py:8(__init__)\n",
      "  1000000    1.438    0.000    1.438    0.000 /var/folders/db/ymnxjzps0vzd3lzz5b3dl6d40000gn/T/ipykernel_7602/1917378029.py:27(__init__)\n",
      "  1000000    0.248    0.000    0.248    0.000 /var/folders/db/ymnxjzps0vzd3lzz5b3dl6d40000gn/T/ipykernel_7602/1917378029.py:15(__init__)\n",
      "  1000000    0.236    0.000    0.236    0.000 /var/folders/db/ymnxjzps0vzd3lzz5b3dl6d40000gn/T/ipykernel_7602/1917378029.py:21(__init__)\n",
      "        1    0.000    0.000    0.000    0.000 {method 'disable' of '_lsprof.Profiler' objects}\n",
      "\n",
      "\n",
      "\n"
     ]
    }
   ],
   "source": [
    "simple_class(N)\n",
    "simple_class.print_stat()"
   ]
  },
  {
   "cell_type": "code",
   "execution_count": 157,
   "id": "5adbee1c",
   "metadata": {},
   "outputs": [
    {
     "name": "stdout",
     "output_type": "stream",
     "text": [
      "Число вызовов функции slots_class = 1\n",
      "         4000003 function calls in 3.969 seconds\n",
      "\n",
      "   Ordered by: cumulative time\n",
      "\n",
      "   ncalls  tottime  percall  cumtime  percall filename:lineno(function)\n",
      "        1    0.000    0.000    3.969    3.969 /var/folders/db/ymnxjzps0vzd3lzz5b3dl6d40000gn/T/ipykernel_7602/4275099258.py:5(slots_class)\n",
      "        1    0.367    0.367    3.969    3.969 /var/folders/db/ymnxjzps0vzd3lzz5b3dl6d40000gn/T/ipykernel_7602/4275099258.py:7(<listcomp>)\n",
      "  1000000    0.921    0.000    3.602    0.000 /var/folders/db/ymnxjzps0vzd3lzz5b3dl6d40000gn/T/ipykernel_7602/1917378029.py:8(__init__)\n",
      "  1000000    2.182    0.000    2.182    0.000 /var/folders/db/ymnxjzps0vzd3lzz5b3dl6d40000gn/T/ipykernel_7602/1917378029.py:15(__init__)\n",
      "  1000000    0.265    0.000    0.265    0.000 /var/folders/db/ymnxjzps0vzd3lzz5b3dl6d40000gn/T/ipykernel_7602/1917378029.py:21(__init__)\n",
      "  1000000    0.234    0.000    0.234    0.000 /var/folders/db/ymnxjzps0vzd3lzz5b3dl6d40000gn/T/ipykernel_7602/1917378029.py:27(__init__)\n",
      "        1    0.000    0.000    0.000    0.000 {method 'disable' of '_lsprof.Profiler' objects}\n",
      "\n",
      "\n",
      "\n"
     ]
    }
   ],
   "source": [
    "slots_class(N)\n",
    "slots_class.print_stat()"
   ]
  },
  {
   "cell_type": "code",
   "execution_count": 158,
   "id": "33df9995",
   "metadata": {},
   "outputs": [
    {
     "name": "stdout",
     "output_type": "stream",
     "text": [
      "Число вызовов функции weakref_class = 1\n",
      "         4000003 function calls in 3.770 seconds\n",
      "\n",
      "   Ordered by: cumulative time\n",
      "\n",
      "   ncalls  tottime  percall  cumtime  percall filename:lineno(function)\n",
      "        1    0.000    0.000    3.770    3.770 /var/folders/db/ymnxjzps0vzd3lzz5b3dl6d40000gn/T/ipykernel_7602/4275099258.py:9(weakref_class)\n",
      "        1    0.404    0.404    3.770    3.770 /var/folders/db/ymnxjzps0vzd3lzz5b3dl6d40000gn/T/ipykernel_7602/4275099258.py:11(<listcomp>)\n",
      "  1000000    0.891    0.000    3.366    0.000 /var/folders/db/ymnxjzps0vzd3lzz5b3dl6d40000gn/T/ipykernel_7602/1917378029.py:8(__init__)\n",
      "  1000000    2.061    0.000    2.061    0.000 /var/folders/db/ymnxjzps0vzd3lzz5b3dl6d40000gn/T/ipykernel_7602/1917378029.py:21(__init__)\n",
      "  1000000    0.218    0.000    0.218    0.000 /var/folders/db/ymnxjzps0vzd3lzz5b3dl6d40000gn/T/ipykernel_7602/1917378029.py:27(__init__)\n",
      "  1000000    0.197    0.000    0.197    0.000 /var/folders/db/ymnxjzps0vzd3lzz5b3dl6d40000gn/T/ipykernel_7602/1917378029.py:15(__init__)\n",
      "        1    0.000    0.000    0.000    0.000 {method 'disable' of '_lsprof.Profiler' objects}\n",
      "\n",
      "\n",
      "\n"
     ]
    }
   ],
   "source": [
    "weakref_class(N)\n",
    "weakref_class.print_stat()"
   ]
  },
  {
   "cell_type": "code",
   "execution_count": 163,
   "id": "4c194e65",
   "metadata": {},
   "outputs": [],
   "source": [
    "@profile_deco\n",
    "def simple_class_get(N):\n",
    "    for i in range(N):\n",
    "        y = players[i].country.country_name\n",
    "\n",
    "\n",
    "@profile_deco\n",
    "def slots_class_get(N):\n",
    "    for i in range(N):\n",
    "        y = players_slots[i].country.country_name\n",
    "\n",
    "        \n",
    "@profile_deco\n",
    "def weakref_class_get(N):\n",
    "    for i in range(N):\n",
    "        y = players_weakref[i].country.country_name"
   ]
  },
  {
   "cell_type": "code",
   "execution_count": 164,
   "id": "750d4151",
   "metadata": {
    "scrolled": true
   },
   "outputs": [
    {
     "name": "stdout",
     "output_type": "stream",
     "text": [
      "Число вызовов функции simple_class_get = 1\n",
      "Число вызовов функции simple_class_get = 2\n",
      "Число вызовов функции simple_class_get = 3\n",
      "Число вызовов функции simple_class_get = 4\n",
      "Число вызовов функции simple_class_get = 5\n",
      "Число вызовов функции simple_class_get = 6\n",
      "Число вызовов функции simple_class_get = 7\n",
      "Число вызовов функции simple_class_get = 8\n",
      "Число вызовов функции simple_class_get = 9\n",
      "Число вызовов функции simple_class_get = 10\n",
      "Число вызовов функции simple_class_get = 11\n",
      "Число вызовов функции simple_class_get = 12\n",
      "Число вызовов функции simple_class_get = 13\n",
      "Число вызовов функции simple_class_get = 14\n",
      "Число вызовов функции simple_class_get = 15\n",
      "Число вызовов функции simple_class_get = 16\n",
      "Число вызовов функции simple_class_get = 17\n",
      "Число вызовов функции simple_class_get = 18\n",
      "Число вызовов функции simple_class_get = 19\n",
      "Число вызовов функции simple_class_get = 20\n",
      "Число вызовов функции simple_class_get = 21\n",
      "Число вызовов функции simple_class_get = 22\n",
      "Число вызовов функции simple_class_get = 23\n",
      "Число вызовов функции simple_class_get = 24\n",
      "Число вызовов функции simple_class_get = 25\n",
      "Число вызовов функции simple_class_get = 26\n",
      "Число вызовов функции simple_class_get = 27\n",
      "Число вызовов функции simple_class_get = 28\n",
      "Число вызовов функции simple_class_get = 29\n",
      "Число вызовов функции simple_class_get = 30\n",
      "Число вызовов функции simple_class_get = 31\n",
      "Число вызовов функции simple_class_get = 32\n",
      "Число вызовов функции simple_class_get = 33\n",
      "Число вызовов функции simple_class_get = 34\n",
      "Число вызовов функции simple_class_get = 35\n",
      "Число вызовов функции simple_class_get = 36\n",
      "Число вызовов функции simple_class_get = 37\n",
      "Число вызовов функции simple_class_get = 38\n",
      "Число вызовов функции simple_class_get = 39\n",
      "Число вызовов функции simple_class_get = 40\n",
      "Число вызовов функции simple_class_get = 41\n",
      "Число вызовов функции simple_class_get = 42\n",
      "Число вызовов функции simple_class_get = 43\n",
      "Число вызовов функции simple_class_get = 44\n",
      "Число вызовов функции simple_class_get = 45\n",
      "Число вызовов функции simple_class_get = 46\n",
      "Число вызовов функции simple_class_get = 47\n",
      "Число вызовов функции simple_class_get = 48\n",
      "Число вызовов функции simple_class_get = 49\n",
      "Число вызовов функции simple_class_get = 50\n",
      "Число вызовов функции simple_class_get = 51\n",
      "Число вызовов функции simple_class_get = 52\n",
      "Число вызовов функции simple_class_get = 53\n",
      "Число вызовов функции simple_class_get = 54\n",
      "Число вызовов функции simple_class_get = 55\n",
      "Число вызовов функции simple_class_get = 56\n",
      "Число вызовов функции simple_class_get = 57\n",
      "Число вызовов функции simple_class_get = 58\n",
      "Число вызовов функции simple_class_get = 59\n",
      "Число вызовов функции simple_class_get = 60\n",
      "Число вызовов функции simple_class_get = 61\n",
      "Число вызовов функции simple_class_get = 62\n",
      "Число вызовов функции simple_class_get = 63\n",
      "Число вызовов функции simple_class_get = 64\n",
      "Число вызовов функции simple_class_get = 65\n",
      "Число вызовов функции simple_class_get = 66\n",
      "Число вызовов функции simple_class_get = 67\n",
      "Число вызовов функции simple_class_get = 68\n",
      "Число вызовов функции simple_class_get = 69\n",
      "Число вызовов функции simple_class_get = 70\n",
      "Число вызовов функции simple_class_get = 71\n",
      "Число вызовов функции simple_class_get = 72\n",
      "Число вызовов функции simple_class_get = 73\n",
      "Число вызовов функции simple_class_get = 74\n",
      "Число вызовов функции simple_class_get = 75\n",
      "Число вызовов функции simple_class_get = 76\n",
      "Число вызовов функции simple_class_get = 77\n",
      "Число вызовов функции simple_class_get = 78\n",
      "Число вызовов функции simple_class_get = 79\n",
      "Число вызовов функции simple_class_get = 80\n",
      "Число вызовов функции simple_class_get = 81\n",
      "Число вызовов функции simple_class_get = 82\n",
      "Число вызовов функции simple_class_get = 83\n",
      "Число вызовов функции simple_class_get = 84\n",
      "Число вызовов функции simple_class_get = 85\n",
      "Число вызовов функции simple_class_get = 86\n",
      "Число вызовов функции simple_class_get = 87\n",
      "Число вызовов функции simple_class_get = 88\n",
      "Число вызовов функции simple_class_get = 89\n",
      "Число вызовов функции simple_class_get = 90\n",
      "Число вызовов функции simple_class_get = 91\n",
      "Число вызовов функции simple_class_get = 92\n",
      "Число вызовов функции simple_class_get = 93\n",
      "Число вызовов функции simple_class_get = 94\n",
      "Число вызовов функции simple_class_get = 95\n",
      "Число вызовов функции simple_class_get = 96\n",
      "Число вызовов функции simple_class_get = 97\n",
      "Число вызовов функции simple_class_get = 98\n",
      "Число вызовов функции simple_class_get = 99\n",
      "Число вызовов функции simple_class_get = 100\n",
      "         200 function calls in 8.798 seconds\n",
      "\n",
      "   Ordered by: cumulative time\n",
      "\n",
      "   ncalls  tottime  percall  cumtime  percall filename:lineno(function)\n",
      "      100    8.798    0.088    8.798    0.088 /var/folders/db/ymnxjzps0vzd3lzz5b3dl6d40000gn/T/ipykernel_7602/101880342.py:1(simple_class_get)\n",
      "      100    0.000    0.000    0.000    0.000 {method 'disable' of '_lsprof.Profiler' objects}\n",
      "\n",
      "\n",
      "\n"
     ]
    }
   ],
   "source": [
    "for _ in range(100):\n",
    "    simple_class_get(N)\n",
    "simple_class_get.print_stat()"
   ]
  },
  {
   "cell_type": "code",
   "execution_count": 165,
   "id": "f6506a9c",
   "metadata": {
    "scrolled": true
   },
   "outputs": [
    {
     "name": "stdout",
     "output_type": "stream",
     "text": [
      "Число вызовов функции slots_class_get = 1\n",
      "Число вызовов функции slots_class_get = 2\n",
      "Число вызовов функции slots_class_get = 3\n",
      "Число вызовов функции slots_class_get = 4\n",
      "Число вызовов функции slots_class_get = 5\n",
      "Число вызовов функции slots_class_get = 6\n",
      "Число вызовов функции slots_class_get = 7\n",
      "Число вызовов функции slots_class_get = 8\n",
      "Число вызовов функции slots_class_get = 9\n",
      "Число вызовов функции slots_class_get = 10\n",
      "Число вызовов функции slots_class_get = 11\n",
      "Число вызовов функции slots_class_get = 12\n",
      "Число вызовов функции slots_class_get = 13\n",
      "Число вызовов функции slots_class_get = 14\n",
      "Число вызовов функции slots_class_get = 15\n",
      "Число вызовов функции slots_class_get = 16\n",
      "Число вызовов функции slots_class_get = 17\n",
      "Число вызовов функции slots_class_get = 18\n",
      "Число вызовов функции slots_class_get = 19\n",
      "Число вызовов функции slots_class_get = 20\n",
      "Число вызовов функции slots_class_get = 21\n",
      "Число вызовов функции slots_class_get = 22\n",
      "Число вызовов функции slots_class_get = 23\n",
      "Число вызовов функции slots_class_get = 24\n",
      "Число вызовов функции slots_class_get = 25\n",
      "Число вызовов функции slots_class_get = 26\n",
      "Число вызовов функции slots_class_get = 27\n",
      "Число вызовов функции slots_class_get = 28\n",
      "Число вызовов функции slots_class_get = 29\n",
      "Число вызовов функции slots_class_get = 30\n",
      "Число вызовов функции slots_class_get = 31\n",
      "Число вызовов функции slots_class_get = 32\n",
      "Число вызовов функции slots_class_get = 33\n",
      "Число вызовов функции slots_class_get = 34\n",
      "Число вызовов функции slots_class_get = 35\n",
      "Число вызовов функции slots_class_get = 36\n",
      "Число вызовов функции slots_class_get = 37\n",
      "Число вызовов функции slots_class_get = 38\n",
      "Число вызовов функции slots_class_get = 39\n",
      "Число вызовов функции slots_class_get = 40\n",
      "Число вызовов функции slots_class_get = 41\n",
      "Число вызовов функции slots_class_get = 42\n",
      "Число вызовов функции slots_class_get = 43\n",
      "Число вызовов функции slots_class_get = 44\n",
      "Число вызовов функции slots_class_get = 45\n",
      "Число вызовов функции slots_class_get = 46\n",
      "Число вызовов функции slots_class_get = 47\n",
      "Число вызовов функции slots_class_get = 48\n",
      "Число вызовов функции slots_class_get = 49\n",
      "Число вызовов функции slots_class_get = 50\n",
      "Число вызовов функции slots_class_get = 51\n",
      "Число вызовов функции slots_class_get = 52\n",
      "Число вызовов функции slots_class_get = 53\n",
      "Число вызовов функции slots_class_get = 54\n",
      "Число вызовов функции slots_class_get = 55\n",
      "Число вызовов функции slots_class_get = 56\n",
      "Число вызовов функции slots_class_get = 57\n",
      "Число вызовов функции slots_class_get = 58\n",
      "Число вызовов функции slots_class_get = 59\n",
      "Число вызовов функции slots_class_get = 60\n",
      "Число вызовов функции slots_class_get = 61\n",
      "Число вызовов функции slots_class_get = 62\n",
      "Число вызовов функции slots_class_get = 63\n",
      "Число вызовов функции slots_class_get = 64\n",
      "Число вызовов функции slots_class_get = 65\n",
      "Число вызовов функции slots_class_get = 66\n",
      "Число вызовов функции slots_class_get = 67\n",
      "Число вызовов функции slots_class_get = 68\n",
      "Число вызовов функции slots_class_get = 69\n",
      "Число вызовов функции slots_class_get = 70\n",
      "Число вызовов функции slots_class_get = 71\n",
      "Число вызовов функции slots_class_get = 72\n",
      "Число вызовов функции slots_class_get = 73\n",
      "Число вызовов функции slots_class_get = 74\n",
      "Число вызовов функции slots_class_get = 75\n",
      "Число вызовов функции slots_class_get = 76\n",
      "Число вызовов функции slots_class_get = 77\n",
      "Число вызовов функции slots_class_get = 78\n",
      "Число вызовов функции slots_class_get = 79\n",
      "Число вызовов функции slots_class_get = 80\n",
      "Число вызовов функции slots_class_get = 81\n",
      "Число вызовов функции slots_class_get = 82\n",
      "Число вызовов функции slots_class_get = 83\n",
      "Число вызовов функции slots_class_get = 84\n",
      "Число вызовов функции slots_class_get = 85\n",
      "Число вызовов функции slots_class_get = 86\n",
      "Число вызовов функции slots_class_get = 87\n",
      "Число вызовов функции slots_class_get = 88\n",
      "Число вызовов функции slots_class_get = 89\n",
      "Число вызовов функции slots_class_get = 90\n",
      "Число вызовов функции slots_class_get = 91\n",
      "Число вызовов функции slots_class_get = 92\n",
      "Число вызовов функции slots_class_get = 93\n",
      "Число вызовов функции slots_class_get = 94\n",
      "Число вызовов функции slots_class_get = 95\n",
      "Число вызовов функции slots_class_get = 96\n",
      "Число вызовов функции slots_class_get = 97\n",
      "Число вызовов функции slots_class_get = 98\n",
      "Число вызовов функции slots_class_get = 99\n",
      "Число вызовов функции slots_class_get = 100\n",
      "         200 function calls in 7.710 seconds\n",
      "\n",
      "   Ordered by: cumulative time\n",
      "\n",
      "   ncalls  tottime  percall  cumtime  percall filename:lineno(function)\n",
      "      100    7.710    0.077    7.710    0.077 /var/folders/db/ymnxjzps0vzd3lzz5b3dl6d40000gn/T/ipykernel_7602/101880342.py:7(slots_class_get)\n",
      "      100    0.000    0.000    0.000    0.000 {method 'disable' of '_lsprof.Profiler' objects}\n",
      "\n",
      "\n",
      "\n"
     ]
    }
   ],
   "source": [
    "for _ in range(100):\n",
    "    slots_class_get(N)\n",
    "slots_class_get.print_stat()"
   ]
  },
  {
   "cell_type": "code",
   "execution_count": 166,
   "id": "770e6ec0",
   "metadata": {
    "scrolled": true
   },
   "outputs": [
    {
     "name": "stdout",
     "output_type": "stream",
     "text": [
      "Число вызовов функции weakref_class_get = 1\n",
      "Число вызовов функции weakref_class_get = 2\n",
      "Число вызовов функции weakref_class_get = 3\n",
      "Число вызовов функции weakref_class_get = 4\n",
      "Число вызовов функции weakref_class_get = 5\n",
      "Число вызовов функции weakref_class_get = 6\n",
      "Число вызовов функции weakref_class_get = 7\n",
      "Число вызовов функции weakref_class_get = 8\n",
      "Число вызовов функции weakref_class_get = 9\n",
      "Число вызовов функции weakref_class_get = 10\n",
      "Число вызовов функции weakref_class_get = 11\n",
      "Число вызовов функции weakref_class_get = 12\n",
      "Число вызовов функции weakref_class_get = 13\n",
      "Число вызовов функции weakref_class_get = 14\n",
      "Число вызовов функции weakref_class_get = 15\n",
      "Число вызовов функции weakref_class_get = 16\n",
      "Число вызовов функции weakref_class_get = 17\n",
      "Число вызовов функции weakref_class_get = 18\n",
      "Число вызовов функции weakref_class_get = 19\n",
      "Число вызовов функции weakref_class_get = 20\n",
      "Число вызовов функции weakref_class_get = 21\n",
      "Число вызовов функции weakref_class_get = 22\n",
      "Число вызовов функции weakref_class_get = 23\n",
      "Число вызовов функции weakref_class_get = 24\n",
      "Число вызовов функции weakref_class_get = 25\n",
      "Число вызовов функции weakref_class_get = 26\n",
      "Число вызовов функции weakref_class_get = 27\n",
      "Число вызовов функции weakref_class_get = 28\n",
      "Число вызовов функции weakref_class_get = 29\n",
      "Число вызовов функции weakref_class_get = 30\n",
      "Число вызовов функции weakref_class_get = 31\n",
      "Число вызовов функции weakref_class_get = 32\n",
      "Число вызовов функции weakref_class_get = 33\n",
      "Число вызовов функции weakref_class_get = 34\n",
      "Число вызовов функции weakref_class_get = 35\n",
      "Число вызовов функции weakref_class_get = 36\n",
      "Число вызовов функции weakref_class_get = 37\n",
      "Число вызовов функции weakref_class_get = 38\n",
      "Число вызовов функции weakref_class_get = 39\n",
      "Число вызовов функции weakref_class_get = 40\n",
      "Число вызовов функции weakref_class_get = 41\n",
      "Число вызовов функции weakref_class_get = 42\n",
      "Число вызовов функции weakref_class_get = 43\n",
      "Число вызовов функции weakref_class_get = 44\n",
      "Число вызовов функции weakref_class_get = 45\n",
      "Число вызовов функции weakref_class_get = 46\n",
      "Число вызовов функции weakref_class_get = 47\n",
      "Число вызовов функции weakref_class_get = 48\n",
      "Число вызовов функции weakref_class_get = 49\n",
      "Число вызовов функции weakref_class_get = 50\n",
      "Число вызовов функции weakref_class_get = 51\n",
      "Число вызовов функции weakref_class_get = 52\n",
      "Число вызовов функции weakref_class_get = 53\n",
      "Число вызовов функции weakref_class_get = 54\n",
      "Число вызовов функции weakref_class_get = 55\n",
      "Число вызовов функции weakref_class_get = 56\n",
      "Число вызовов функции weakref_class_get = 57\n",
      "Число вызовов функции weakref_class_get = 58\n",
      "Число вызовов функции weakref_class_get = 59\n",
      "Число вызовов функции weakref_class_get = 60\n",
      "Число вызовов функции weakref_class_get = 61\n",
      "Число вызовов функции weakref_class_get = 62\n",
      "Число вызовов функции weakref_class_get = 63\n",
      "Число вызовов функции weakref_class_get = 64\n",
      "Число вызовов функции weakref_class_get = 65\n",
      "Число вызовов функции weakref_class_get = 66\n",
      "Число вызовов функции weakref_class_get = 67\n",
      "Число вызовов функции weakref_class_get = 68\n",
      "Число вызовов функции weakref_class_get = 69\n",
      "Число вызовов функции weakref_class_get = 70\n",
      "Число вызовов функции weakref_class_get = 71\n",
      "Число вызовов функции weakref_class_get = 72\n",
      "Число вызовов функции weakref_class_get = 73\n",
      "Число вызовов функции weakref_class_get = 74\n",
      "Число вызовов функции weakref_class_get = 75\n",
      "Число вызовов функции weakref_class_get = 76\n",
      "Число вызовов функции weakref_class_get = 77\n",
      "Число вызовов функции weakref_class_get = 78\n",
      "Число вызовов функции weakref_class_get = 79\n",
      "Число вызовов функции weakref_class_get = 80\n",
      "Число вызовов функции weakref_class_get = 81\n",
      "Число вызовов функции weakref_class_get = 82\n",
      "Число вызовов функции weakref_class_get = 83\n",
      "Число вызовов функции weakref_class_get = 84\n",
      "Число вызовов функции weakref_class_get = 85\n",
      "Число вызовов функции weakref_class_get = 86\n",
      "Число вызовов функции weakref_class_get = 87\n",
      "Число вызовов функции weakref_class_get = 88\n",
      "Число вызовов функции weakref_class_get = 89\n",
      "Число вызовов функции weakref_class_get = 90\n",
      "Число вызовов функции weakref_class_get = 91\n",
      "Число вызовов функции weakref_class_get = 92\n",
      "Число вызовов функции weakref_class_get = 93\n",
      "Число вызовов функции weakref_class_get = 94\n",
      "Число вызовов функции weakref_class_get = 95\n",
      "Число вызовов функции weakref_class_get = 96\n",
      "Число вызовов функции weakref_class_get = 97\n",
      "Число вызовов функции weakref_class_get = 98\n",
      "Число вызовов функции weakref_class_get = 99\n",
      "Число вызовов функции weakref_class_get = 100\n",
      "         200 function calls in 12.836 seconds\n",
      "\n",
      "   Ordered by: cumulative time\n",
      "\n",
      "   ncalls  tottime  percall  cumtime  percall filename:lineno(function)\n",
      "      100   12.836    0.128   12.836    0.128 /var/folders/db/ymnxjzps0vzd3lzz5b3dl6d40000gn/T/ipykernel_7602/101880342.py:13(weakref_class_get)\n",
      "      100    0.000    0.000    0.000    0.000 {method 'disable' of '_lsprof.Profiler' objects}\n",
      "\n",
      "\n",
      "\n"
     ]
    }
   ],
   "source": [
    "for _ in range(100):\n",
    "    weakref_class_get(N)\n",
    "weakref_class_get.print_stat()"
   ]
  },
  {
   "cell_type": "code",
   "execution_count": null,
   "id": "9a3756d9",
   "metadata": {},
   "outputs": [],
   "source": []
  },
  {
   "cell_type": "code",
   "execution_count": 172,
   "id": "2299d71c",
   "metadata": {},
   "outputs": [],
   "source": [
    "@profile_deco\n",
    "def simple_class_change(N):\n",
    "    for i in range(N):\n",
    "        players[i].position.pos_name += \" in team\"\n",
    "        \n",
    "\n",
    "@profile_deco\n",
    "def slots_class_change(N):\n",
    "    for i in range(N):\n",
    "        players_slots[i].position.pos_name += \" in team\"\n",
    "\n",
    "        \n",
    "@profile_deco\n",
    "def weakref_class_change(N):\n",
    "    for i in range(N):\n",
    "        players_weakref[i].position.pos_name += \" in team\""
   ]
  },
  {
   "cell_type": "code",
   "execution_count": 170,
   "id": "63d2deab",
   "metadata": {},
   "outputs": [],
   "source": [
    "players = [FootballPlayer(countries[i], positions[i], teams[i]) for i in range(N)]\n",
    "players_slots = [FootballPlayerSlots(countries[i], positions[i], teams[i]) for i in range(N)]\n",
    "players_weakref = [FootballPlayerWeakref(countries[i], positions[i], teams[i]) for i in range(N)]"
   ]
  },
  {
   "cell_type": "code",
   "execution_count": 173,
   "id": "ae953e2e",
   "metadata": {},
   "outputs": [
    {
     "name": "stdout",
     "output_type": "stream",
     "text": [
      "Число вызовов функции simple_class_change = 1\n",
      "Число вызовов функции simple_class_change = 2\n",
      "Число вызовов функции simple_class_change = 3\n",
      "Число вызовов функции simple_class_change = 4\n",
      "Число вызовов функции simple_class_change = 5\n",
      "Число вызовов функции simple_class_change = 6\n",
      "Число вызовов функции simple_class_change = 7\n",
      "Число вызовов функции simple_class_change = 8\n",
      "Число вызовов функции simple_class_change = 9\n",
      "Число вызовов функции simple_class_change = 10\n",
      "         20 function calls in 1.839 seconds\n",
      "\n",
      "   Ordered by: cumulative time\n",
      "\n",
      "   ncalls  tottime  percall  cumtime  percall filename:lineno(function)\n",
      "       10    1.839    0.184    1.839    0.184 /var/folders/db/ymnxjzps0vzd3lzz5b3dl6d40000gn/T/ipykernel_7602/2795450480.py:1(simple_class_change)\n",
      "       10    0.000    0.000    0.000    0.000 {method 'disable' of '_lsprof.Profiler' objects}\n",
      "\n",
      "\n",
      "\n"
     ]
    }
   ],
   "source": [
    "for _ in range(10):\n",
    "    simple_class_change(N)\n",
    "simple_class_change.print_stat()"
   ]
  },
  {
   "cell_type": "code",
   "execution_count": 174,
   "id": "32498d0a",
   "metadata": {},
   "outputs": [
    {
     "name": "stdout",
     "output_type": "stream",
     "text": [
      "Число вызовов функции slots_class_change = 1\n",
      "Число вызовов функции slots_class_change = 2\n",
      "Число вызовов функции slots_class_change = 3\n",
      "Число вызовов функции slots_class_change = 4\n",
      "Число вызовов функции slots_class_change = 5\n",
      "Число вызовов функции slots_class_change = 6\n",
      "Число вызовов функции slots_class_change = 7\n",
      "Число вызовов функции slots_class_change = 8\n",
      "Число вызовов функции slots_class_change = 9\n",
      "Число вызовов функции slots_class_change = 10\n",
      "         20 function calls in 1.560 seconds\n",
      "\n",
      "   Ordered by: cumulative time\n",
      "\n",
      "   ncalls  tottime  percall  cumtime  percall filename:lineno(function)\n",
      "       10    1.560    0.156    1.560    0.156 /var/folders/db/ymnxjzps0vzd3lzz5b3dl6d40000gn/T/ipykernel_7602/2795450480.py:7(slots_class_change)\n",
      "       10    0.000    0.000    0.000    0.000 {method 'disable' of '_lsprof.Profiler' objects}\n",
      "\n",
      "\n",
      "\n"
     ]
    }
   ],
   "source": [
    "for _ in range(10):\n",
    "    slots_class_change(N)\n",
    "slots_class_change.print_stat()"
   ]
  },
  {
   "cell_type": "code",
   "execution_count": 175,
   "id": "47107bb1",
   "metadata": {},
   "outputs": [
    {
     "name": "stdout",
     "output_type": "stream",
     "text": [
      "Число вызовов функции weakref_class_change = 1\n",
      "Число вызовов функции weakref_class_change = 2\n",
      "Число вызовов функции weakref_class_change = 3\n",
      "Число вызовов функции weakref_class_change = 4\n",
      "Число вызовов функции weakref_class_change = 5\n",
      "Число вызовов функции weakref_class_change = 6\n",
      "Число вызовов функции weakref_class_change = 7\n",
      "Число вызовов функции weakref_class_change = 8\n",
      "Число вызовов функции weakref_class_change = 9\n",
      "Число вызовов функции weakref_class_change = 10\n",
      "         20 function calls in 1.833 seconds\n",
      "\n",
      "   Ordered by: cumulative time\n",
      "\n",
      "   ncalls  tottime  percall  cumtime  percall filename:lineno(function)\n",
      "       10    1.833    0.183    1.833    0.183 /var/folders/db/ymnxjzps0vzd3lzz5b3dl6d40000gn/T/ipykernel_7602/2795450480.py:13(weakref_class_change)\n",
      "       10    0.000    0.000    0.000    0.000 {method 'disable' of '_lsprof.Profiler' objects}\n",
      "\n",
      "\n",
      "\n"
     ]
    }
   ],
   "source": [
    "for _ in range(10):\n",
    "    weakref_class_change(N)\n",
    "weakref_class_change.print_stat()"
   ]
  },
  {
   "cell_type": "code",
   "execution_count": null,
   "id": "61c3f822",
   "metadata": {},
   "outputs": [],
   "source": []
  },
  {
   "cell_type": "code",
   "execution_count": 176,
   "id": "7a53d90b",
   "metadata": {},
   "outputs": [],
   "source": [
    "@profile_deco\n",
    "def simple_class_del(N):\n",
    "    for i in range(N):\n",
    "        del players[i].position\n",
    "\n",
    "        \n",
    "@profile_deco\n",
    "def slots_class_del(N):\n",
    "    for i in range(N):\n",
    "        del players_slots[i].position\n",
    "        \n",
    "\n",
    "@profile_deco\n",
    "def weakref_class_del(N):\n",
    "    for i in range(N):\n",
    "        del players_weakref[i].position"
   ]
  },
  {
   "cell_type": "code",
   "execution_count": 177,
   "id": "e39cf198",
   "metadata": {},
   "outputs": [
    {
     "name": "stdout",
     "output_type": "stream",
     "text": [
      "Число вызовов функции simple_class_del = 1\n",
      "         2 function calls in 0.362 seconds\n",
      "\n",
      "   Ordered by: cumulative time\n",
      "\n",
      "   ncalls  tottime  percall  cumtime  percall filename:lineno(function)\n",
      "        1    0.362    0.362    0.362    0.362 /var/folders/db/ymnxjzps0vzd3lzz5b3dl6d40000gn/T/ipykernel_7602/2216245854.py:1(simple_class_del)\n",
      "        1    0.000    0.000    0.000    0.000 {method 'disable' of '_lsprof.Profiler' objects}\n",
      "\n",
      "\n",
      "\n",
      "Число вызовов функции slots_class_del = 1\n",
      "         2 function calls in 0.127 seconds\n",
      "\n",
      "   Ordered by: cumulative time\n",
      "\n",
      "   ncalls  tottime  percall  cumtime  percall filename:lineno(function)\n",
      "        1    0.127    0.127    0.127    0.127 /var/folders/db/ymnxjzps0vzd3lzz5b3dl6d40000gn/T/ipykernel_7602/2216245854.py:7(slots_class_del)\n",
      "        1    0.000    0.000    0.000    0.000 {method 'disable' of '_lsprof.Profiler' objects}\n",
      "\n",
      "\n",
      "\n",
      "Число вызовов функции weakref_class_del = 1\n",
      "         2 function calls in 0.197 seconds\n",
      "\n",
      "   Ordered by: cumulative time\n",
      "\n",
      "   ncalls  tottime  percall  cumtime  percall filename:lineno(function)\n",
      "        1    0.197    0.197    0.197    0.197 /var/folders/db/ymnxjzps0vzd3lzz5b3dl6d40000gn/T/ipykernel_7602/2216245854.py:13(weakref_class_del)\n",
      "        1    0.000    0.000    0.000    0.000 {method 'disable' of '_lsprof.Profiler' objects}\n",
      "\n",
      "\n",
      "\n"
     ]
    }
   ],
   "source": [
    "simple_class_del(N)\n",
    "simple_class_del.print_stat()\n",
    "\n",
    "slots_class_del(N)\n",
    "slots_class_del.print_stat()\n",
    "\n",
    "weakref_class_del(N)\n",
    "weakref_class_del.print_stat()"
   ]
  },
  {
   "cell_type": "code",
   "execution_count": null,
   "id": "42eff291",
   "metadata": {},
   "outputs": [],
   "source": []
  }
 ],
 "metadata": {
  "kernelspec": {
   "display_name": "Python 3 (ipykernel)",
   "language": "python",
   "name": "python3"
  },
  "language_info": {
   "codemirror_mode": {
    "name": "ipython",
    "version": 3
   },
   "file_extension": ".py",
   "mimetype": "text/x-python",
   "name": "python",
   "nbconvert_exporter": "python",
   "pygments_lexer": "ipython3",
   "version": "3.9.12"
  }
 },
 "nbformat": 4,
 "nbformat_minor": 5
}
