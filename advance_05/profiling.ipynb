{
 "cells": [
  {
   "cell_type": "code",
   "execution_count": 1,
   "id": "bce58e45",
   "metadata": {},
   "outputs": [],
   "source": [
    "import time\n",
    "from random import choice\n",
    "import weakref\n",
    "\n",
    "\n",
    "class FootballPlayer:\n",
    "    def __init__(self, country_name=None, pos_name=None, team_name=None, team_sponsor=None):\n",
    "        self.country = Country(self, country_name)\n",
    "        self.position = Position(self, pos_name)\n",
    "        self.team = Team(self, team_name, team_sponsor)\n",
    "\n",
    "        \n",
    "class Country:\n",
    "    def __init__(self, player, country_name):\n",
    "        self.player = player\n",
    "        self.country_name = country_name\n",
    "\n",
    "        \n",
    "class Position:\n",
    "    def __init__(self, player, pos_name):\n",
    "        self.player = player\n",
    "        self.pos_name = pos_name\n",
    "\n",
    "\n",
    "class Team:\n",
    "    def __init__(self, player, team_name, team_sponsor):\n",
    "        self.player = player\n",
    "        self.team_name = team_name\n",
    "        self.team_sponsor = team_sponsor"
   ]
  },
  {
   "cell_type": "code",
   "execution_count": 2,
   "id": "aa0d3a01",
   "metadata": {},
   "outputs": [],
   "source": [
    "class FootballPlayerSlots:\n",
    "    __slots__ = (\"country\", \"position\", \"team\")\n",
    "\n",
    "    def __init__(self, country_name=None, pos_name=None, team_name=None, team_sponsor=None):\n",
    "        self.country = CountrySlots(self, country_name)\n",
    "        self.position = PositionSlots(self, pos_name)\n",
    "        self.team = TeamSlots(self, team_name, team_sponsor)\n",
    "\n",
    "\n",
    "class CountrySlots:\n",
    "    __slots__ = (\"player\", \"country_name\")\n",
    "\n",
    "    def __init__(self, player, country_name):\n",
    "        self.player = player\n",
    "        self.country_name = country_name\n",
    "\n",
    "\n",
    "class PositionSlots:\n",
    "    __slots__ = (\"player\", \"pos_name\")\n",
    "\n",
    "    def __init__(self, player, pos_name):\n",
    "        self.player = player\n",
    "        self.pos_name = pos_name\n",
    "\n",
    "\n",
    "class TeamSlots:\n",
    "    __slots__ = (\"player\", \"team_name\", \"team_sponsor\")\n",
    "\n",
    "    def __init__(self, player, team_name, team_sponsor):\n",
    "        self.player = player\n",
    "        self.team_name = team_name\n",
    "        self.team_sponsor = team_sponsor\n"
   ]
  },
  {
   "cell_type": "code",
   "execution_count": 3,
   "id": "2ff5c63d",
   "metadata": {},
   "outputs": [],
   "source": [
    "class FootballPlayerWeakref:\n",
    "    def __init__(self, country_name=None, pos_name=None, team_name=None, team_sponsor=None):\n",
    "        self.country = CountryWeakref(self, country_name)\n",
    "        self.position = PositionWeakref(self, pos_name)\n",
    "        self.team = TeamWeakref(self, team_name, team_sponsor)\n",
    "\n",
    "\n",
    "class CountryWeakref:\n",
    "    def __init__(self, player, country_name):\n",
    "        self.player = weakref.ref(player)\n",
    "        self.country_name = country_name\n",
    "\n",
    "\n",
    "class PositionWeakref:\n",
    "    def __init__(self, player, pos_name):\n",
    "        self.player = weakref.ref(player)\n",
    "        self.pos_name = pos_name\n",
    "\n",
    "\n",
    "class TeamWeakref:\n",
    "    def __init__(self, player, team_name, team_sponsor):\n",
    "        self.player = weakref.ref(player)\n",
    "        self.team_name = team_name\n",
    "        self.team_sponsor = team_sponsor\n"
   ]
  },
  {
   "cell_type": "code",
   "execution_count": 4,
   "id": "63894695",
   "metadata": {},
   "outputs": [],
   "source": [
    "COUNTRIES = [\"England\", \"France\", \"Russia\", \"Spain\", \"Italy\", \"Brazil\", \"USA\", \"Germany\", \"Argentina\", \"Belgium\"]\n",
    "POSITIONS = [\"Forward\", \"Goalkeeper\", \"Defender\", \"Midfielder\"]\n",
    "TEAMS = [\"Barcelona\", \"Bayern\", \"Manchester City\", \"Real\", \"Atletico\", \"Chelsea\", \"Arsenal\", \"Inter\", \"Juventus\"]\n",
    "\n",
    "\n",
    "def random_word(words):\n",
    "    return choice(words)"
   ]
  },
  {
   "cell_type": "code",
   "execution_count": 5,
   "id": "67ca6543",
   "metadata": {},
   "outputs": [],
   "source": [
    "N = 1_000_000\n",
    "\n",
    "\n",
    "countries = [random_word(COUNTRIES) for i in range(N)]\n",
    "teams = [random_word(TEAMS) for i in range(N)]\n",
    "positions = [random_word(POSITIONS) for i in range(N)]"
   ]
  },
  {
   "cell_type": "code",
   "execution_count": 6,
   "id": "0a7b508e",
   "metadata": {},
   "outputs": [],
   "source": [
    "def simple_class(N):\n",
    "    players = [FootballPlayer(countries[i], positions[i], teams[i]) for i in range(N)]\n",
    "    return players\n",
    "\n",
    "\n",
    "def slots_class(N):\n",
    "    players_slots = [FootballPlayerSlots(countries[i], positions[i], teams[i]) for i in range(N)]\n",
    "    return players_slots\n",
    "\n",
    "    \n",
    "def weakref_class(N):\n",
    "    players_weakref = [FootballPlayerWeakref(countries[i], positions[i], teams[i]) for i in range(N)]\n",
    "    return players_weakref"
   ]
  },
  {
   "cell_type": "code",
   "execution_count": 7,
   "id": "79d9362a",
   "metadata": {},
   "outputs": [
    {
     "name": "stdout",
     "output_type": "stream",
     "text": [
      "CPU times: user 2.57 s, sys: 75.6 ms, total: 2.65 s\n",
      "Wall time: 2.65 s\n"
     ]
    }
   ],
   "source": [
    "%%time\n",
    "\n",
    "players = simple_class(N)"
   ]
  },
  {
   "cell_type": "code",
   "execution_count": 8,
   "id": "b320ee47",
   "metadata": {},
   "outputs": [
    {
     "name": "stdout",
     "output_type": "stream",
     "text": [
      "CPU times: user 1.44 s, sys: 39.6 ms, total: 1.48 s\n",
      "Wall time: 1.48 s\n"
     ]
    }
   ],
   "source": [
    "%%time\n",
    "\n",
    "players_slots = slots_class(N)"
   ]
  },
  {
   "cell_type": "code",
   "execution_count": 9,
   "id": "544ef5c1",
   "metadata": {},
   "outputs": [
    {
     "name": "stdout",
     "output_type": "stream",
     "text": [
      "CPU times: user 2.23 s, sys: 78.7 ms, total: 2.31 s\n",
      "Wall time: 2.31 s\n"
     ]
    }
   ],
   "source": [
    "%%time\n",
    "\n",
    "players_weakref = weakref_class(N)"
   ]
  },
  {
   "cell_type": "code",
   "execution_count": 10,
   "id": "cae23930",
   "metadata": {},
   "outputs": [],
   "source": [
    "def simple_class_get(N):\n",
    "    for i in range(N):\n",
    "        y = players[i].country.country_name\n",
    "\n",
    "\n",
    "def slots_class_get(N):\n",
    "    for i in range(N):\n",
    "        y = players_slots[i].country.country_name\n",
    "\n",
    "\n",
    "def weakref_class_get(N):\n",
    "    for i in range(N):\n",
    "        y = players_weakref[i].country.country_name"
   ]
  },
  {
   "cell_type": "code",
   "execution_count": 11,
   "id": "1504f6de",
   "metadata": {},
   "outputs": [],
   "source": [
    "def simple_class_change(N):\n",
    "    for i in range(N):\n",
    "        players[i].position.pos_name += \" in team\"\n",
    "        \n",
    "\n",
    "def slots_class_change(N):\n",
    "    for i in range(N):\n",
    "        players_slots[i].position.pos_name += \" in team\"\n",
    "\n",
    "\n",
    "def weakref_class_change(N):\n",
    "    for i in range(N):\n",
    "        players_weakref[i].position.pos_name += \" in team\""
   ]
  },
  {
   "cell_type": "code",
   "execution_count": 12,
   "id": "cf9e6430",
   "metadata": {},
   "outputs": [],
   "source": [
    "def simple_class_del(N):\n",
    "    for i in range(N):\n",
    "        del players[i].position.pos_name\n",
    "        \n",
    "\n",
    "def slots_class_del(N):\n",
    "    for i in range(N):\n",
    "        del players_slots[i].position.pos_name\n",
    "        \n",
    "        \n",
    "def weakref_class_del(N):\n",
    "    for i in range(N):\n",
    "        del players_weakref[i].position.pos_name"
   ]
  },
  {
   "cell_type": "code",
   "execution_count": 13,
   "id": "24b69c54",
   "metadata": {},
   "outputs": [
    {
     "name": "stdout",
     "output_type": "stream",
     "text": [
      "CPU times: user 92.8 ms, sys: 1.82 ms, total: 94.7 ms\n",
      "Wall time: 93.6 ms\n"
     ]
    }
   ],
   "source": [
    "%%time\n",
    "\n",
    "simple_class_get(N)"
   ]
  },
  {
   "cell_type": "code",
   "execution_count": 14,
   "id": "7563138e",
   "metadata": {},
   "outputs": [
    {
     "name": "stdout",
     "output_type": "stream",
     "text": [
      "CPU times: user 51.7 ms, sys: 1.37 ms, total: 53.1 ms\n",
      "Wall time: 52.5 ms\n"
     ]
    }
   ],
   "source": [
    "%%time\n",
    "\n",
    "slots_class_get(N)"
   ]
  },
  {
   "cell_type": "code",
   "execution_count": 15,
   "id": "24ca1106",
   "metadata": {},
   "outputs": [
    {
     "name": "stdout",
     "output_type": "stream",
     "text": [
      "CPU times: user 99.6 ms, sys: 2.97 ms, total: 103 ms\n",
      "Wall time: 102 ms\n"
     ]
    }
   ],
   "source": [
    "%%time\n",
    "\n",
    "weakref_class_get(N)"
   ]
  },
  {
   "cell_type": "code",
   "execution_count": null,
   "id": "462d1a23",
   "metadata": {},
   "outputs": [],
   "source": []
  },
  {
   "cell_type": "code",
   "execution_count": 16,
   "id": "1a9e958d",
   "metadata": {},
   "outputs": [
    {
     "name": "stdout",
     "output_type": "stream",
     "text": [
      "CPU times: user 133 ms, sys: 9.23 ms, total: 143 ms\n",
      "Wall time: 142 ms\n"
     ]
    }
   ],
   "source": [
    "%%time\n",
    "\n",
    "simple_class_change(N)"
   ]
  },
  {
   "cell_type": "code",
   "execution_count": 17,
   "id": "35c80502",
   "metadata": {},
   "outputs": [
    {
     "name": "stdout",
     "output_type": "stream",
     "text": [
      "CPU times: user 93.8 ms, sys: 8.28 ms, total: 102 ms\n",
      "Wall time: 101 ms\n"
     ]
    }
   ],
   "source": [
    "%%time\n",
    "\n",
    "slots_class_change(N)"
   ]
  },
  {
   "cell_type": "code",
   "execution_count": 18,
   "id": "75febd6a",
   "metadata": {},
   "outputs": [
    {
     "name": "stdout",
     "output_type": "stream",
     "text": [
      "CPU times: user 132 ms, sys: 10.1 ms, total: 142 ms\n",
      "Wall time: 141 ms\n"
     ]
    }
   ],
   "source": [
    "%%time\n",
    "\n",
    "weakref_class_change(N)"
   ]
  },
  {
   "cell_type": "code",
   "execution_count": null,
   "id": "65c62df9",
   "metadata": {},
   "outputs": [],
   "source": []
  },
  {
   "cell_type": "code",
   "execution_count": 19,
   "id": "f889ecfc",
   "metadata": {},
   "outputs": [
    {
     "name": "stdout",
     "output_type": "stream",
     "text": [
      "CPU times: user 119 ms, sys: 11.5 ms, total: 131 ms\n",
      "Wall time: 130 ms\n"
     ]
    }
   ],
   "source": [
    "%%time\n",
    "\n",
    "simple_class_del(N)"
   ]
  },
  {
   "cell_type": "code",
   "execution_count": 20,
   "id": "235554fd",
   "metadata": {},
   "outputs": [
    {
     "name": "stdout",
     "output_type": "stream",
     "text": [
      "CPU times: user 59.4 ms, sys: 3.56 ms, total: 63 ms\n",
      "Wall time: 62.2 ms\n"
     ]
    }
   ],
   "source": [
    "%%time\n",
    "\n",
    "slots_class_del(N)"
   ]
  },
  {
   "cell_type": "code",
   "execution_count": 21,
   "id": "9ed1c015",
   "metadata": {},
   "outputs": [
    {
     "name": "stdout",
     "output_type": "stream",
     "text": [
      "CPU times: user 122 ms, sys: 10.8 ms, total: 133 ms\n",
      "Wall time: 132 ms\n"
     ]
    }
   ],
   "source": [
    "%%time\n",
    "\n",
    "weakref_class_del(N)"
   ]
  },
  {
   "cell_type": "code",
   "execution_count": 22,
   "id": "ff0f0eb0",
   "metadata": {},
   "outputs": [],
   "source": [
    "import cProfile, pstats, io"
   ]
  },
  {
   "cell_type": "code",
   "execution_count": 23,
   "id": "262da18c",
   "metadata": {},
   "outputs": [],
   "source": [
    "def profile_deco(func):\n",
    "    count = 0\n",
    "    arr_calls = []\n",
    "    def wrapper(*args, **kwargs):\n",
    "        nonlocal count, arr_calls\n",
    "        count += 1\n",
    "        arr_calls.append(args[0])\n",
    "        print(f\"Число вызовов функции {func.__name__} =\", count)\n",
    "        prof = cProfile.Profile()\n",
    "        prof.enable()\n",
    "\n",
    "        for i in range(count):\n",
    "            func(arr_calls[i])\n",
    "\n",
    "        prof.disable()\n",
    "        s = io.StringIO()\n",
    "        sortby = 'cumulative'\n",
    "        ps = pstats.Stats(prof, stream=s).sort_stats(sortby)\n",
    "        ps.print_stats()\n",
    "\n",
    "        class stat:\n",
    "            @staticmethod\n",
    "            def print_stat():\n",
    "                print(s.getvalue())\n",
    "\n",
    "        return stat\n",
    "\n",
    "    return wrapper"
   ]
  },
  {
   "cell_type": "code",
   "execution_count": 24,
   "id": "0ed3f5f5",
   "metadata": {},
   "outputs": [],
   "source": [
    "@profile_deco\n",
    "def simple_class(N):\n",
    "    players = [FootballPlayer(countries[i], positions[i], teams[i]) for i in range(N)]\n",
    "    \n",
    "@profile_deco\n",
    "def slots_class(N):\n",
    "    players = [FootballPlayer(countries[i], positions[i], teams[i]) for i in range(N)]\n",
    "    \n",
    "@profile_deco\n",
    "def weakref_class(N):\n",
    "    players = [FootballPlayer(countries[i], positions[i], teams[i]) for i in range(N)]"
   ]
  },
  {
   "cell_type": "code",
   "execution_count": 25,
   "id": "774045ac",
   "metadata": {},
   "outputs": [
    {
     "name": "stdout",
     "output_type": "stream",
     "text": [
      "Число вызовов функции simple_class = 1\n",
      "         4000003 function calls in 4.286 seconds\n",
      "\n",
      "   Ordered by: cumulative time\n",
      "\n",
      "   ncalls  tottime  percall  cumtime  percall filename:lineno(function)\n",
      "        1    0.000    0.000    4.286    4.286 /var/folders/db/ymnxjzps0vzd3lzz5b3dl6d40000gn/T/ipykernel_7034/4275099258.py:1(simple_class)\n",
      "        1    0.192    0.192    4.286    4.286 /var/folders/db/ymnxjzps0vzd3lzz5b3dl6d40000gn/T/ipykernel_7034/4275099258.py:3(<listcomp>)\n",
      "  1000000    3.571    0.000    4.094    0.000 /var/folders/db/ymnxjzps0vzd3lzz5b3dl6d40000gn/T/ipykernel_7034/3413450359.py:7(__init__)\n",
      "  1000000    0.232    0.000    0.232    0.000 /var/folders/db/ymnxjzps0vzd3lzz5b3dl6d40000gn/T/ipykernel_7034/3413450359.py:26(__init__)\n",
      "  1000000    0.146    0.000    0.146    0.000 /var/folders/db/ymnxjzps0vzd3lzz5b3dl6d40000gn/T/ipykernel_7034/3413450359.py:20(__init__)\n",
      "  1000000    0.145    0.000    0.145    0.000 /var/folders/db/ymnxjzps0vzd3lzz5b3dl6d40000gn/T/ipykernel_7034/3413450359.py:14(__init__)\n",
      "        1    0.000    0.000    0.000    0.000 {method 'disable' of '_lsprof.Profiler' objects}\n",
      "\n",
      "\n",
      "\n"
     ]
    }
   ],
   "source": [
    "simple_class(N).print_stat()"
   ]
  },
  {
   "cell_type": "code",
   "execution_count": 26,
   "id": "7a00fddb",
   "metadata": {},
   "outputs": [
    {
     "name": "stdout",
     "output_type": "stream",
     "text": [
      "Число вызовов функции slots_class = 1\n",
      "         4000003 function calls in 4.489 seconds\n",
      "\n",
      "   Ordered by: cumulative time\n",
      "\n",
      "   ncalls  tottime  percall  cumtime  percall filename:lineno(function)\n",
      "        1    0.000    0.000    4.489    4.489 /var/folders/db/ymnxjzps0vzd3lzz5b3dl6d40000gn/T/ipykernel_7034/4275099258.py:5(slots_class)\n",
      "        1    0.201    0.201    4.489    4.489 /var/folders/db/ymnxjzps0vzd3lzz5b3dl6d40000gn/T/ipykernel_7034/4275099258.py:7(<listcomp>)\n",
      "  1000000    0.618    0.000    4.288    0.000 /var/folders/db/ymnxjzps0vzd3lzz5b3dl6d40000gn/T/ipykernel_7034/3413450359.py:7(__init__)\n",
      "  1000000    3.298    0.000    3.298    0.000 /var/folders/db/ymnxjzps0vzd3lzz5b3dl6d40000gn/T/ipykernel_7034/3413450359.py:26(__init__)\n",
      "  1000000    0.232    0.000    0.232    0.000 /var/folders/db/ymnxjzps0vzd3lzz5b3dl6d40000gn/T/ipykernel_7034/3413450359.py:14(__init__)\n",
      "  1000000    0.140    0.000    0.140    0.000 /var/folders/db/ymnxjzps0vzd3lzz5b3dl6d40000gn/T/ipykernel_7034/3413450359.py:20(__init__)\n",
      "        1    0.000    0.000    0.000    0.000 {method 'disable' of '_lsprof.Profiler' objects}\n",
      "\n",
      "\n",
      "\n"
     ]
    }
   ],
   "source": [
    "slots_class(N).print_stat()"
   ]
  },
  {
   "cell_type": "code",
   "execution_count": 27,
   "id": "94fd6bda",
   "metadata": {},
   "outputs": [
    {
     "name": "stdout",
     "output_type": "stream",
     "text": [
      "Число вызовов функции weakref_class = 1\n",
      "         4000003 function calls in 3.980 seconds\n",
      "\n",
      "   Ordered by: cumulative time\n",
      "\n",
      "   ncalls  tottime  percall  cumtime  percall filename:lineno(function)\n",
      "        1    0.000    0.000    3.980    3.980 /var/folders/db/ymnxjzps0vzd3lzz5b3dl6d40000gn/T/ipykernel_7034/4275099258.py:9(weakref_class)\n",
      "        1    0.195    0.195    3.980    3.980 /var/folders/db/ymnxjzps0vzd3lzz5b3dl6d40000gn/T/ipykernel_7034/4275099258.py:11(<listcomp>)\n",
      "  1000000    3.282    0.000    3.785    0.000 /var/folders/db/ymnxjzps0vzd3lzz5b3dl6d40000gn/T/ipykernel_7034/3413450359.py:7(__init__)\n",
      "  1000000    0.234    0.000    0.234    0.000 /var/folders/db/ymnxjzps0vzd3lzz5b3dl6d40000gn/T/ipykernel_7034/3413450359.py:26(__init__)\n",
      "  1000000    0.136    0.000    0.136    0.000 /var/folders/db/ymnxjzps0vzd3lzz5b3dl6d40000gn/T/ipykernel_7034/3413450359.py:14(__init__)\n",
      "  1000000    0.133    0.000    0.133    0.000 /var/folders/db/ymnxjzps0vzd3lzz5b3dl6d40000gn/T/ipykernel_7034/3413450359.py:20(__init__)\n",
      "        1    0.000    0.000    0.000    0.000 {method 'disable' of '_lsprof.Profiler' objects}\n",
      "\n",
      "\n",
      "\n"
     ]
    }
   ],
   "source": [
    "weakref_class(N).print_stat()"
   ]
  },
  {
   "cell_type": "code",
   "execution_count": null,
   "id": "3fd3ce19",
   "metadata": {},
   "outputs": [],
   "source": []
  },
  {
   "cell_type": "code",
   "execution_count": 28,
   "id": "bc5a5ee9",
   "metadata": {},
   "outputs": [],
   "source": [
    "@profile_deco\n",
    "def simple_class_get(N):\n",
    "    for i in range(N):\n",
    "        y = players[i].country.country_name\n",
    "\n",
    "\n",
    "@profile_deco\n",
    "def slots_class_get(N):\n",
    "    for i in range(N):\n",
    "        y = players_slots[i].country.country_name\n",
    "\n",
    "        \n",
    "@profile_deco\n",
    "def weakref_class_get(N):\n",
    "    for i in range(N):\n",
    "        y = players_weakref[i].country.country_name"
   ]
  },
  {
   "cell_type": "code",
   "execution_count": 29,
   "id": "e4172419",
   "metadata": {},
   "outputs": [
    {
     "name": "stdout",
     "output_type": "stream",
     "text": [
      "Число вызовов функции simple_class_get = 1\n",
      "Число вызовов функции simple_class_get = 2\n",
      "Число вызовов функции simple_class_get = 3\n",
      "Число вызовов функции simple_class_get = 4\n",
      "Число вызовов функции simple_class_get = 5\n",
      "Число вызовов функции simple_class_get = 6\n",
      "Число вызовов функции simple_class_get = 7\n",
      "Число вызовов функции simple_class_get = 8\n",
      "Число вызовов функции simple_class_get = 9\n",
      "Число вызовов функции simple_class_get = 10\n",
      "         11 function calls in 0.888 seconds\n",
      "\n",
      "   Ordered by: cumulative time\n",
      "\n",
      "   ncalls  tottime  percall  cumtime  percall filename:lineno(function)\n",
      "       10    0.888    0.089    0.888    0.089 /var/folders/db/ymnxjzps0vzd3lzz5b3dl6d40000gn/T/ipykernel_7034/101880342.py:1(simple_class_get)\n",
      "        1    0.000    0.000    0.000    0.000 {method 'disable' of '_lsprof.Profiler' objects}\n",
      "\n",
      "\n",
      "\n"
     ]
    }
   ],
   "source": [
    "for _ in range(9):\n",
    "    simple_class_get(N)\n",
    "simple_class_get(N).print_stat()"
   ]
  },
  {
   "cell_type": "code",
   "execution_count": 30,
   "id": "3bcc0251",
   "metadata": {
    "scrolled": false
   },
   "outputs": [
    {
     "name": "stdout",
     "output_type": "stream",
     "text": [
      "Число вызовов функции slots_class_get = 1\n",
      "Число вызовов функции slots_class_get = 2\n",
      "Число вызовов функции slots_class_get = 3\n",
      "Число вызовов функции slots_class_get = 4\n",
      "Число вызовов функции slots_class_get = 5\n",
      "Число вызовов функции slots_class_get = 6\n",
      "Число вызовов функции slots_class_get = 7\n",
      "Число вызовов функции slots_class_get = 8\n",
      "Число вызовов функции slots_class_get = 9\n",
      "Число вызовов функции slots_class_get = 10\n",
      "         11 function calls in 0.498 seconds\n",
      "\n",
      "   Ordered by: cumulative time\n",
      "\n",
      "   ncalls  tottime  percall  cumtime  percall filename:lineno(function)\n",
      "       10    0.498    0.050    0.498    0.050 /var/folders/db/ymnxjzps0vzd3lzz5b3dl6d40000gn/T/ipykernel_7034/101880342.py:7(slots_class_get)\n",
      "        1    0.000    0.000    0.000    0.000 {method 'disable' of '_lsprof.Profiler' objects}\n",
      "\n",
      "\n",
      "\n"
     ]
    }
   ],
   "source": [
    "for _ in range(9):\n",
    "    slots_class_get(N)\n",
    "slots_class_get(N).print_stat()"
   ]
  },
  {
   "cell_type": "code",
   "execution_count": 31,
   "id": "2269a7f7",
   "metadata": {},
   "outputs": [
    {
     "name": "stdout",
     "output_type": "stream",
     "text": [
      "Число вызовов функции weakref_class_get = 1\n",
      "Число вызовов функции weakref_class_get = 2\n",
      "Число вызовов функции weakref_class_get = 3\n",
      "Число вызовов функции weakref_class_get = 4\n",
      "Число вызовов функции weakref_class_get = 5\n",
      "Число вызовов функции weakref_class_get = 6\n",
      "Число вызовов функции weakref_class_get = 7\n",
      "Число вызовов функции weakref_class_get = 8\n",
      "Число вызовов функции weakref_class_get = 9\n",
      "Число вызовов функции weakref_class_get = 10\n",
      "         11 function calls in 0.935 seconds\n",
      "\n",
      "   Ordered by: cumulative time\n",
      "\n",
      "   ncalls  tottime  percall  cumtime  percall filename:lineno(function)\n",
      "       10    0.935    0.093    0.935    0.093 /var/folders/db/ymnxjzps0vzd3lzz5b3dl6d40000gn/T/ipykernel_7034/101880342.py:13(weakref_class_get)\n",
      "        1    0.000    0.000    0.000    0.000 {method 'disable' of '_lsprof.Profiler' objects}\n",
      "\n",
      "\n",
      "\n"
     ]
    }
   ],
   "source": [
    "for _ in range(9):\n",
    "    weakref_class_get(N)\n",
    "weakref_class_get(N).print_stat()"
   ]
  },
  {
   "cell_type": "code",
   "execution_count": null,
   "id": "7376089e",
   "metadata": {},
   "outputs": [],
   "source": []
  },
  {
   "cell_type": "code",
   "execution_count": 32,
   "id": "ea21ed54",
   "metadata": {},
   "outputs": [],
   "source": [
    "@profile_deco\n",
    "def simple_class_change(N):\n",
    "    for i in range(N):\n",
    "        players[i].position.pos_name += \" in team\"\n",
    "        \n",
    "\n",
    "@profile_deco\n",
    "def slots_class_change(N):\n",
    "    for i in range(N):\n",
    "        players_slots[i].position.pos_name += \" in team\"\n",
    "\n",
    "        \n",
    "@profile_deco\n",
    "def weakref_class_change(N):\n",
    "    for i in range(N):\n",
    "        players_weakref[i].position.pos_name += \" in team\""
   ]
  },
  {
   "cell_type": "code",
   "execution_count": 33,
   "id": "554491ee",
   "metadata": {},
   "outputs": [],
   "source": [
    "players = [FootballPlayer(countries[i], positions[i], teams[i]) for i in range(N)]\n",
    "players_slots = [FootballPlayerSlots(countries[i], positions[i], teams[i]) for i in range(N)]\n",
    "players_weakref = [FootballPlayerWeakref(countries[i], positions[i], teams[i]) for i in range(N)]"
   ]
  },
  {
   "cell_type": "code",
   "execution_count": 34,
   "id": "aa53f3cd",
   "metadata": {},
   "outputs": [
    {
     "name": "stdout",
     "output_type": "stream",
     "text": [
      "Число вызовов функции simple_class_change = 1\n",
      "Число вызовов функции simple_class_change = 2\n",
      "Число вызовов функции simple_class_change = 3\n",
      "Число вызовов функции simple_class_change = 4\n",
      "Число вызовов функции simple_class_change = 5\n",
      "Число вызовов функции simple_class_change = 6\n",
      "Число вызовов функции simple_class_change = 7\n",
      "Число вызовов функции simple_class_change = 8\n",
      "Число вызовов функции simple_class_change = 9\n",
      "Число вызовов функции simple_class_change = 10\n",
      "         11 function calls in 2.948 seconds\n",
      "\n",
      "   Ordered by: cumulative time\n",
      "\n",
      "   ncalls  tottime  percall  cumtime  percall filename:lineno(function)\n",
      "       10    2.948    0.295    2.948    0.295 /var/folders/db/ymnxjzps0vzd3lzz5b3dl6d40000gn/T/ipykernel_7034/2795450480.py:1(simple_class_change)\n",
      "        1    0.000    0.000    0.000    0.000 {method 'disable' of '_lsprof.Profiler' objects}\n",
      "\n",
      "\n",
      "\n"
     ]
    }
   ],
   "source": [
    "for _ in range(9):\n",
    "    simple_class_change(N)\n",
    "simple_class_change(N).print_stat()"
   ]
  },
  {
   "cell_type": "code",
   "execution_count": 35,
   "id": "22fea54b",
   "metadata": {},
   "outputs": [
    {
     "name": "stdout",
     "output_type": "stream",
     "text": [
      "Число вызовов функции slots_class_change = 1\n",
      "Число вызовов функции slots_class_change = 2\n",
      "Число вызовов функции slots_class_change = 3\n",
      "Число вызовов функции slots_class_change = 4\n",
      "Число вызовов функции slots_class_change = 5\n",
      "Число вызовов функции slots_class_change = 6\n",
      "Число вызовов функции slots_class_change = 7\n",
      "Число вызовов функции slots_class_change = 8\n",
      "Число вызовов функции slots_class_change = 9\n",
      "Число вызовов функции slots_class_change = 10\n",
      "         11 function calls in 1.707 seconds\n",
      "\n",
      "   Ordered by: cumulative time\n",
      "\n",
      "   ncalls  tottime  percall  cumtime  percall filename:lineno(function)\n",
      "       10    1.707    0.171    1.707    0.171 /var/folders/db/ymnxjzps0vzd3lzz5b3dl6d40000gn/T/ipykernel_7034/2795450480.py:7(slots_class_change)\n",
      "        1    0.000    0.000    0.000    0.000 {method 'disable' of '_lsprof.Profiler' objects}\n",
      "\n",
      "\n",
      "\n"
     ]
    }
   ],
   "source": [
    "for _ in range(9):\n",
    "    slots_class_change(N)\n",
    "slots_class_change(N).print_stat()"
   ]
  },
  {
   "cell_type": "code",
   "execution_count": 36,
   "id": "a0df9d69",
   "metadata": {},
   "outputs": [
    {
     "name": "stdout",
     "output_type": "stream",
     "text": [
      "Число вызовов функции weakref_class_change = 1\n",
      "Число вызовов функции weakref_class_change = 2\n",
      "Число вызовов функции weakref_class_change = 3\n",
      "Число вызовов функции weakref_class_change = 4\n",
      "Число вызовов функции weakref_class_change = 5\n",
      "Число вызовов функции weakref_class_change = 6\n",
      "Число вызовов функции weakref_class_change = 7\n",
      "Число вызовов функции weakref_class_change = 8\n",
      "Число вызовов функции weakref_class_change = 9\n",
      "Число вызовов функции weakref_class_change = 10\n",
      "         11 function calls in 2.007 seconds\n",
      "\n",
      "   Ordered by: cumulative time\n",
      "\n",
      "   ncalls  tottime  percall  cumtime  percall filename:lineno(function)\n",
      "       10    2.007    0.201    2.007    0.201 /var/folders/db/ymnxjzps0vzd3lzz5b3dl6d40000gn/T/ipykernel_7034/2795450480.py:13(weakref_class_change)\n",
      "        1    0.000    0.000    0.000    0.000 {method 'disable' of '_lsprof.Profiler' objects}\n",
      "\n",
      "\n",
      "\n"
     ]
    }
   ],
   "source": [
    "for _ in range(9):\n",
    "    weakref_class_change(N)\n",
    "weakref_class_change(N).print_stat()"
   ]
  },
  {
   "cell_type": "code",
   "execution_count": null,
   "id": "f977b750",
   "metadata": {},
   "outputs": [],
   "source": []
  },
  {
   "cell_type": "code",
   "execution_count": 37,
   "id": "869a80d3",
   "metadata": {},
   "outputs": [],
   "source": [
    "@profile_deco\n",
    "def simple_class_del(N):\n",
    "    for i in range(N):\n",
    "        del players[i].position\n",
    "\n",
    "        \n",
    "@profile_deco\n",
    "def slots_class_del(N):\n",
    "    for i in range(N):\n",
    "        del players_slots[i].position\n",
    "        \n",
    "\n",
    "@profile_deco\n",
    "def weakref_class_del(N):\n",
    "    for i in range(N):\n",
    "        del players_weakref[i].position"
   ]
  },
  {
   "cell_type": "code",
   "execution_count": 38,
   "id": "e122fdba",
   "metadata": {},
   "outputs": [
    {
     "name": "stdout",
     "output_type": "stream",
     "text": [
      "Число вызовов функции simple_class_del = 1\n",
      "         2 function calls in 0.317 seconds\n",
      "\n",
      "   Ordered by: cumulative time\n",
      "\n",
      "   ncalls  tottime  percall  cumtime  percall filename:lineno(function)\n",
      "        1    0.317    0.317    0.317    0.317 /var/folders/db/ymnxjzps0vzd3lzz5b3dl6d40000gn/T/ipykernel_7034/2216245854.py:1(simple_class_del)\n",
      "        1    0.000    0.000    0.000    0.000 {method 'disable' of '_lsprof.Profiler' objects}\n",
      "\n",
      "\n",
      "\n",
      "Число вызовов функции slots_class_del = 1\n",
      "         2 function calls in 0.141 seconds\n",
      "\n",
      "   Ordered by: cumulative time\n",
      "\n",
      "   ncalls  tottime  percall  cumtime  percall filename:lineno(function)\n",
      "        1    0.141    0.141    0.141    0.141 /var/folders/db/ymnxjzps0vzd3lzz5b3dl6d40000gn/T/ipykernel_7034/2216245854.py:7(slots_class_del)\n",
      "        1    0.000    0.000    0.000    0.000 {method 'disable' of '_lsprof.Profiler' objects}\n",
      "\n",
      "\n",
      "\n",
      "Число вызовов функции weakref_class_del = 1\n",
      "         2 function calls in 0.229 seconds\n",
      "\n",
      "   Ordered by: cumulative time\n",
      "\n",
      "   ncalls  tottime  percall  cumtime  percall filename:lineno(function)\n",
      "        1    0.229    0.229    0.229    0.229 /var/folders/db/ymnxjzps0vzd3lzz5b3dl6d40000gn/T/ipykernel_7034/2216245854.py:13(weakref_class_del)\n",
      "        1    0.000    0.000    0.000    0.000 {method 'disable' of '_lsprof.Profiler' objects}\n",
      "\n",
      "\n",
      "\n"
     ]
    }
   ],
   "source": [
    "simple_class_del(N).print_stat()\n",
    "slots_class_del(N).print_stat()\n",
    "weakref_class_del(N).print_stat()"
   ]
  },
  {
   "cell_type": "code",
   "execution_count": null,
   "id": "49630a59",
   "metadata": {},
   "outputs": [],
   "source": []
  }
 ],
 "metadata": {
  "kernelspec": {
   "display_name": "Python 3 (ipykernel)",
   "language": "python",
   "name": "python3"
  },
  "language_info": {
   "codemirror_mode": {
    "name": "ipython",
    "version": 3
   },
   "file_extension": ".py",
   "mimetype": "text/x-python",
   "name": "python",
   "nbconvert_exporter": "python",
   "pygments_lexer": "ipython3",
   "version": "3.9.13"
  }
 },
 "nbformat": 4,
 "nbformat_minor": 5
}
