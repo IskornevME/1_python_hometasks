{
 "cells": [
  {
   "cell_type": "code",
   "execution_count": 28,
   "id": "cb3c2a2e",
   "metadata": {},
   "outputs": [],
   "source": [
    "import math\n",
    "\n",
    "def quad_eq(a, b, c):\n",
    "    #по определению квадратного уравнения считаем, что a != 0\n",
    "    if (math.isclose(a, 0) == True):\n",
    "        print(\"Error. It's not quadratic equation.\")\n",
    "        return -1\n",
    "    #считаем дискриминант\n",
    "    D = b*b - 4*a*c\n",
    "    if D > 0:\n",
    "        x_1 = (-b + math.sqrt(D))/(2*a)\n",
    "        x_2 = (-b - math.sqrt(D))/(2*a)\n",
    "        return (x_1, x_2)\n",
    "    elif math.isclose(D, 0) == True:\n",
    "        x_1 = -b/(2*a)\n",
    "        return (x_1, x_1)\n",
    "    else:\n",
    "        return None"
   ]
  },
  {
   "cell_type": "code",
   "execution_count": 47,
   "id": "b5a409d7",
   "metadata": {},
   "outputs": [
    {
     "name": "stdout",
     "output_type": "stream",
     "text": [
      "Error. It's not quadratic equation.\n"
     ]
    }
   ],
   "source": [
    "assert quad_eq(0, 3, -4) == -1"
   ]
  },
  {
   "cell_type": "code",
   "execution_count": 48,
   "id": "95d2e878",
   "metadata": {},
   "outputs": [],
   "source": [
    "assert quad_eq(4, 0 , -1) == (0.5, -0.5)\n",
    "assert quad_eq(4, 0 , 1) == None\n",
    "assert quad_eq(1, -10, 25) == (5.0, 5.0)\n",
    "assert quad_eq(1, -4, 3) == (3.0, 1.0)\n",
    "assert quad_eq(1, 4, 3) == (-1.0, -3.0)\n",
    "assert quad_eq(1, 4, 3) == (-1.0, -3.0)\n",
    "assert quad_eq(6, -1, -1) == (0.5, -1/3)\n",
    "assert quad_eq(4, 12, 9) == (-1.5, -1.5)"
   ]
  },
  {
   "cell_type": "code",
   "execution_count": null,
   "id": "c359649b",
   "metadata": {},
   "outputs": [],
   "source": []
  }
 ],
 "metadata": {
  "kernelspec": {
   "display_name": "Python 3 (ipykernel)",
   "language": "python",
   "name": "python3"
  },
  "language_info": {
   "codemirror_mode": {
    "name": "ipython",
    "version": 3
   },
   "file_extension": ".py",
   "mimetype": "text/x-python",
   "name": "python",
   "nbconvert_exporter": "python",
   "pygments_lexer": "ipython3",
   "version": "3.9.12"
  }
 },
 "nbformat": 4,
 "nbformat_minor": 5
}
