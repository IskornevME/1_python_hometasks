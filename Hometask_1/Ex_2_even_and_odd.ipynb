{
 "cells": [
  {
   "cell_type": "code",
   "execution_count": 6,
   "id": "875a8ab9",
   "metadata": {},
   "outputs": [],
   "source": [
    "def ev_odd(nums):\n",
    "    even = []\n",
    "    odd = []\n",
    "    for elem in nums:\n",
    "        if elem % 2 == 0:\n",
    "            even.append(elem)\n",
    "        else:\n",
    "            odd.append(elem)\n",
    "    return (even, odd)"
   ]
  },
  {
   "cell_type": "code",
   "execution_count": 7,
   "id": "217bd69a",
   "metadata": {},
   "outputs": [],
   "source": [
    "assert ev_odd([1, 2 , 3, 4, 5]) == ([2, 4], [1, 3, 5])\n",
    "assert ev_odd([200, 777, 32, 57, 4, 5, -6, -9]) == ([200, 32, 4, -6], [777, 57, 5, -9])\n",
    "assert ev_odd([-7, 5, -3, -3, -3, 0, 765, 200540]) == ([0, 200540], [-7, 5, -3, -3, -3, 765])"
   ]
  },
  {
   "cell_type": "code",
   "execution_count": null,
   "id": "480b44f3",
   "metadata": {},
   "outputs": [],
   "source": []
  }
 ],
 "metadata": {
  "kernelspec": {
   "display_name": "Python 3 (ipykernel)",
   "language": "python",
   "name": "python3"
  },
  "language_info": {
   "codemirror_mode": {
    "name": "ipython",
    "version": 3
   },
   "file_extension": ".py",
   "mimetype": "text/x-python",
   "name": "python",
   "nbconvert_exporter": "python",
   "pygments_lexer": "ipython3",
   "version": "3.9.12"
  }
 },
 "nbformat": 4,
 "nbformat_minor": 5
}
